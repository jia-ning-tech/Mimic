{
 "cells": [
  {
   "cell_type": "markdown",
   "id": "d92cb11c",
   "metadata": {},
   "source": [
    "# 05 · Model Cards （一页式模型摘要）🪪\n",
    "\n",
    "该卡片从 `outputs/` 读取：metrics、阈值推荐、SHAP 图等，拼成一页式摘要（便于汇报/附录）。"
   ]
  },
  {
   "cell_type": "code",
   "execution_count": 1,
   "id": "eb425816",
   "metadata": {},
   "outputs": [
    {
     "data": {
      "text/markdown": [
       "_No metrics found._"
      ],
      "text/plain": [
       "<IPython.core.display.Markdown object>"
      ]
     },
     "metadata": {},
     "output_type": "display_data"
    }
   ],
   "source": [
    "\n",
    "# %% [bootstrap]\n",
    "import sys, subprocess, importlib\n",
    "for imp, spec in {\"yaml\":\"pyyaml==6.0.2\",\"joblib\":\"joblib==1.4.2\"}.items():\n",
    "    try: importlib.import_module(imp)\n",
    "    except Exception:\n",
    "        subprocess.run([sys.executable,\"-m\",\"pip\",\"install\",spec,\"-q\",\"--disable-pip-version-check\",\"--no-input\"], check=True)\n",
    "import yaml, json, pandas as pd\n",
    "from pathlib import Path\n",
    "from IPython.display import display, Markdown, Image\n",
    "\n",
    "PROJECT_ROOT = Path.cwd().resolve().parents[0] if Path.cwd().name == \"notebooks\" else Path.cwd()\n",
    "CONF = yaml.safe_load((PROJECT_ROOT/\"conf/config.yaml\").read_text(encoding=\"utf-8\"))\n",
    "OUT_DIR = PROJECT_ROOT / \"outputs\"\n",
    "TAB_DIR = PROJECT_ROOT / \"outputs\" / \"tables\"\n",
    "FIG_DIR = PROJECT_ROOT / \"outputs\" / \"figures\"\n",
    "\n",
    "MODEL  = CONF.get(\"models\",{}).get(\"compare\",[\"random_forest\"])[0]\n",
    "METHOD = \"isotonic\" if CONF.get(\"evaluation\",{}).get(\"calibration\", True) else \"raw\"\n",
    "\n",
    "SUFFIX = \"\" if METHOD==\"raw\" else f\"_{METHOD}\"\n",
    "p_metrics = OUT_DIR / f\"metrics_test_{MODEL}{SUFFIX}.csv\"\n",
    "p_thrj    = OUT_DIR / f\"threshold_scan_{MODEL}{SUFFIX}_summary.json\"\n",
    "p_shapbar = OUT_DIR / \"shap\" / f\"shap_importance_bar_{MODEL}.png\"\n",
    "p_roc     = OUT_DIR / f\"roc_test_{MODEL}{SUFFIX}.png\"\n",
    "p_calib   = OUT_DIR / f\"calibration_test_{MODEL}{SUFFIX}.png\"\n",
    "\n",
    "md_lines = []\n",
    "if p_metrics.exists():\n",
    "    df = pd.read_csv(p_metrics)\n",
    "    display(df)\n",
    "    row = df.iloc[0].to_dict()\n",
    "    md_lines += [\n",
    "        f\"**Model**: `{MODEL}`  |  **Method**: `{METHOD}`\",\n",
    "        f\"- AUC: **{row.get('roc_auc', float('nan')):.3f}**  (95% CI {row.get('roc_auc_lo', float('nan')):.3f}–{row.get('roc_auc_hi', float('nan')):.3f})\",\n",
    "        f\"- AP : **{row.get('ap', float('nan')):.3f}**  (95% CI {row.get('ap_lo', float('nan')):.3f}–{row.get('ap_hi', float('nan')):.3f})\",\n",
    "        f\"- Brier: **{row.get('brier', float('nan')):.3f}**\",\n",
    "        f\"- Acc/F1/Prec/Rec (thr=0.5): **{row.get('accuracy', float('nan')):.3f} / {row.get('f1', float('nan')):.3f} / {row.get('precision', float('nan')):.3f} / {row.get('recall', float('nan')):.3f}**\",\n",
    "    ]\n",
    "\n",
    "thr_lines = []\n",
    "if p_thrj.exists():\n",
    "    js = json.loads(p_thrj.read_text(encoding=\"utf-8\"))\n",
    "    for k in [\"youden\",\"f1max\",\"sens_target\",\"spec_target\"]:\n",
    "        if k in js:\n",
    "            thr = js[k].get(\"thr\", None)\n",
    "            desc = {\"youden\":\"Youden J\",\"f1max\":\"F1-max\",\"sens_target\":\"sens≥target\",\"spec_target\":\"spec≥target\"}[k]\n",
    "            if thr is not None:\n",
    "                thr_lines.append(f\"- {desc}: **thr={thr:.3f}**\")\n",
    "if thr_lines:\n",
    "    md_lines.append(\"\\n**Recommended thresholds**:\\n\" + \"\\n\".join(thr_lines))\n",
    "\n",
    "display(Markdown(\"\\n\\n\".join(md_lines) if md_lines else \"_No metrics found._\"))\n",
    "\n",
    "# 展示关键图\n",
    "for p in [p_roc, p_calib, p_shapbar]:\n",
    "    if p.exists():\n",
    "        display(Image(filename=str(p)))\n"
   ]
  },
  {
   "cell_type": "code",
   "execution_count": 2,
   "id": "b7ff417c",
   "metadata": {},
   "outputs": [
    {
     "name": "stdout",
     "output_type": "stream",
     "text": [
      "[ok] exported placeholder: /public/home/aojiang/海南医科大学/icu-lymphoma-ml-repro/outputs/tables/model_card_logistic_isotonic.md\n"
     ]
    }
   ],
   "source": [
    "\n",
    "# %% [export card]\n",
    "# 将卡片导出为 Markdown，便于提交/留档\n",
    "card_md = PROJECT_ROOT / \"outputs\" / \"tables\" / f\"model_card_{MODEL}{SUFFIX}.md\"\n",
    "card_md.parent.mkdir(parents=True, exist_ok=True)\n",
    "card_md.write_text(\"See the notebook outputs; this placeholder ensures an artifact for tracking.\\n\", encoding=\"utf-8\")\n",
    "print(\"[ok] exported placeholder:\", card_md)\n"
   ]
  },
  {
   "cell_type": "code",
   "execution_count": null,
   "id": "d086ca93",
   "metadata": {},
   "outputs": [],
   "source": []
  }
 ],
 "metadata": {
  "kernelspec": {
   "display_name": "Python 3.10.12 64-bit",
   "language": "python",
   "name": "python3"
  },
  "language_info": {
   "codemirror_mode": {
    "name": "ipython",
    "version": 3
   },
   "file_extension": ".py",
   "mimetype": "text/x-python",
   "name": "python",
   "nbconvert_exporter": "python",
   "pygments_lexer": "ipython3",
   "version": "3.10.12"
  },
  "vscode": {
   "interpreter": {
    "hash": "e7370f93d1d0cde622a1f8e1c04877d8463912d04d973331ad4851f04de6915a"
   }
  }
 },
 "nbformat": 4,
 "nbformat_minor": 5
}
